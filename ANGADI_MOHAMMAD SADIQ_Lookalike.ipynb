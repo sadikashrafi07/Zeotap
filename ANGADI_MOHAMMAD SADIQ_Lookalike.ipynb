{
 "cells": [
  {
   "cell_type": "markdown",
   "id": "0f010fb8",
   "metadata": {},
   "source": [
    "\n",
    "<center><h2>Lookalike Model</h2></center>"
   ]
  },
  {
   "cell_type": "code",
   "execution_count": 1,
   "id": "a7d193b5",
   "metadata": {},
   "outputs": [],
   "source": [
    "import pandas as pd\n",
    "import numpy as np\n",
    "import matplotlib.pyplot as plt\n",
    "%matplotlib inline\n",
    "import seaborn as sns\n",
    "\n",
    "## Display all the columns of the dataframe\n",
    "pd.pandas.set_option('display.max_columns',None)"
   ]
  },
  {
   "cell_type": "markdown",
   "id": "fa6610df",
   "metadata": {},
   "source": [
    "- **Customers**, **Products**, and **Transactions** contain complementary information.  \n",
    "- So, we gather all the required information (Customers,Products, and Transactions data) into a single dataset for analysis and similarity calculation..  \n",
    "\n"
   ]
  },
  {
   "cell_type": "code",
   "execution_count": 2,
   "id": "4b45ac36",
   "metadata": {},
   "outputs": [],
   "source": [
    "# Loading the datasets\n",
    "customers_data = pd.read_csv(\"Customers.csv\")\n",
    "products_data = pd.read_csv(\"Products.csv\")\n",
    "transactions_data = pd.read_csv(\"Transactions.csv\")\n",
    "\n",
    "# Merging Transactions with Customers\n",
    "transactions_customers = pd.merge(transactions_data, customers_data, on=\"CustomerID\", how=\"left\")\n",
    "\n",
    "# Merging the transactions_customers with Products\n",
    "dataset = pd.merge(transactions_customers, products_data, on=\"ProductID\", how=\"left\")"
   ]
  },
  {
   "cell_type": "code",
   "execution_count": 3,
   "id": "e24f64d7",
   "metadata": {},
   "outputs": [
    {
     "data": {
      "text/html": [
       "<div>\n",
       "<style scoped>\n",
       "    .dataframe tbody tr th:only-of-type {\n",
       "        vertical-align: middle;\n",
       "    }\n",
       "\n",
       "    .dataframe tbody tr th {\n",
       "        vertical-align: top;\n",
       "    }\n",
       "\n",
       "    .dataframe thead th {\n",
       "        text-align: right;\n",
       "    }\n",
       "</style>\n",
       "<table border=\"1\" class=\"dataframe\">\n",
       "  <thead>\n",
       "    <tr style=\"text-align: right;\">\n",
       "      <th></th>\n",
       "      <th>TransactionID</th>\n",
       "      <th>CustomerID</th>\n",
       "      <th>ProductID</th>\n",
       "      <th>TransactionDate</th>\n",
       "      <th>Quantity</th>\n",
       "      <th>TotalValue</th>\n",
       "      <th>Price_x</th>\n",
       "      <th>CustomerName</th>\n",
       "      <th>Region</th>\n",
       "      <th>SignupDate</th>\n",
       "      <th>ProductName</th>\n",
       "      <th>Category</th>\n",
       "      <th>Price_y</th>\n",
       "    </tr>\n",
       "  </thead>\n",
       "  <tbody>\n",
       "    <tr>\n",
       "      <th>0</th>\n",
       "      <td>T00001</td>\n",
       "      <td>C0199</td>\n",
       "      <td>P067</td>\n",
       "      <td>2024-08-25 12:38:23</td>\n",
       "      <td>1</td>\n",
       "      <td>300.68</td>\n",
       "      <td>300.68</td>\n",
       "      <td>Andrea Jenkins</td>\n",
       "      <td>Europe</td>\n",
       "      <td>2022-12-03</td>\n",
       "      <td>ComfortLiving Bluetooth Speaker</td>\n",
       "      <td>Electronics</td>\n",
       "      <td>300.68</td>\n",
       "    </tr>\n",
       "    <tr>\n",
       "      <th>1</th>\n",
       "      <td>T00112</td>\n",
       "      <td>C0146</td>\n",
       "      <td>P067</td>\n",
       "      <td>2024-05-27 22:23:54</td>\n",
       "      <td>1</td>\n",
       "      <td>300.68</td>\n",
       "      <td>300.68</td>\n",
       "      <td>Brittany Harvey</td>\n",
       "      <td>Asia</td>\n",
       "      <td>2024-09-04</td>\n",
       "      <td>ComfortLiving Bluetooth Speaker</td>\n",
       "      <td>Electronics</td>\n",
       "      <td>300.68</td>\n",
       "    </tr>\n",
       "    <tr>\n",
       "      <th>2</th>\n",
       "      <td>T00166</td>\n",
       "      <td>C0127</td>\n",
       "      <td>P067</td>\n",
       "      <td>2024-04-25 07:38:55</td>\n",
       "      <td>1</td>\n",
       "      <td>300.68</td>\n",
       "      <td>300.68</td>\n",
       "      <td>Kathryn Stevens</td>\n",
       "      <td>Europe</td>\n",
       "      <td>2024-04-04</td>\n",
       "      <td>ComfortLiving Bluetooth Speaker</td>\n",
       "      <td>Electronics</td>\n",
       "      <td>300.68</td>\n",
       "    </tr>\n",
       "    <tr>\n",
       "      <th>3</th>\n",
       "      <td>T00272</td>\n",
       "      <td>C0087</td>\n",
       "      <td>P067</td>\n",
       "      <td>2024-03-26 22:55:37</td>\n",
       "      <td>2</td>\n",
       "      <td>601.36</td>\n",
       "      <td>300.68</td>\n",
       "      <td>Travis Campbell</td>\n",
       "      <td>South America</td>\n",
       "      <td>2024-04-11</td>\n",
       "      <td>ComfortLiving Bluetooth Speaker</td>\n",
       "      <td>Electronics</td>\n",
       "      <td>300.68</td>\n",
       "    </tr>\n",
       "    <tr>\n",
       "      <th>4</th>\n",
       "      <td>T00363</td>\n",
       "      <td>C0070</td>\n",
       "      <td>P067</td>\n",
       "      <td>2024-03-21 15:10:10</td>\n",
       "      <td>3</td>\n",
       "      <td>902.04</td>\n",
       "      <td>300.68</td>\n",
       "      <td>Timothy Perez</td>\n",
       "      <td>Europe</td>\n",
       "      <td>2022-03-15</td>\n",
       "      <td>ComfortLiving Bluetooth Speaker</td>\n",
       "      <td>Electronics</td>\n",
       "      <td>300.68</td>\n",
       "    </tr>\n",
       "  </tbody>\n",
       "</table>\n",
       "</div>"
      ],
      "text/plain": [
       "  TransactionID CustomerID ProductID      TransactionDate  Quantity  \\\n",
       "0        T00001      C0199      P067  2024-08-25 12:38:23         1   \n",
       "1        T00112      C0146      P067  2024-05-27 22:23:54         1   \n",
       "2        T00166      C0127      P067  2024-04-25 07:38:55         1   \n",
       "3        T00272      C0087      P067  2024-03-26 22:55:37         2   \n",
       "4        T00363      C0070      P067  2024-03-21 15:10:10         3   \n",
       "\n",
       "   TotalValue  Price_x     CustomerName         Region  SignupDate  \\\n",
       "0      300.68   300.68   Andrea Jenkins         Europe  2022-12-03   \n",
       "1      300.68   300.68  Brittany Harvey           Asia  2024-09-04   \n",
       "2      300.68   300.68  Kathryn Stevens         Europe  2024-04-04   \n",
       "3      601.36   300.68  Travis Campbell  South America  2024-04-11   \n",
       "4      902.04   300.68    Timothy Perez         Europe  2022-03-15   \n",
       "\n",
       "                       ProductName     Category  Price_y  \n",
       "0  ComfortLiving Bluetooth Speaker  Electronics   300.68  \n",
       "1  ComfortLiving Bluetooth Speaker  Electronics   300.68  \n",
       "2  ComfortLiving Bluetooth Speaker  Electronics   300.68  \n",
       "3  ComfortLiving Bluetooth Speaker  Electronics   300.68  \n",
       "4  ComfortLiving Bluetooth Speaker  Electronics   300.68  "
      ]
     },
     "execution_count": 3,
     "metadata": {},
     "output_type": "execute_result"
    }
   ],
   "source": [
    "dataset.head()"
   ]
  },
  {
   "cell_type": "markdown",
   "id": "28ae9395",
   "metadata": {},
   "source": [
    "Why there are two Price columns?  \n",
    "This happend during the merge operation from both the datasets(Transactions and Products)  \n",
    "- **_x**: it had occured from the left dataset (Transactions).\n",
    "- **_y**: and it was from the right dataset (Products)."
   ]
  },
  {
   "cell_type": "code",
   "execution_count": 4,
   "id": "c1a37894",
   "metadata": {},
   "outputs": [
    {
     "name": "stdout",
     "output_type": "stream",
     "text": [
      "Price mismatches:\n",
      " Empty DataFrame\n",
      "Columns: [TransactionID, CustomerID, ProductID, TransactionDate, Quantity, TotalValue, Price_x, CustomerName, Region, SignupDate, ProductName, Category, Price_y]\n",
      "Index: []\n"
     ]
    }
   ],
   "source": [
    "# verifying wheteher Price_x and Price_y had any differences.\n",
    "price_mismatch = dataset[dataset[\"Price_x\"] != dataset[\"Price_y\"]]\n",
    "print(\"Price mismatches:\\n\", price_mismatch)"
   ]
  },
  {
   "cell_type": "markdown",
   "id": "e5e23050",
   "metadata": {},
   "source": [
    "- According to the output there is no difference between **Price_x** (from the Transactions dataset) and **Price_y** (from the Products dataset). This indicates that there is consistency in **Price** feature across both the datasets.  \n",
    "- So, there were no mismatches; we can drop one of the redundant columns.  "
   ]
  },
  {
   "cell_type": "code",
   "execution_count": 5,
   "id": "37ce8e69",
   "metadata": {},
   "outputs": [
    {
     "name": "stdout",
     "output_type": "stream",
     "text": [
      "  TransactionID CustomerID ProductID      TransactionDate  Quantity  \\\n",
      "0        T00001      C0199      P067  2024-08-25 12:38:23         1   \n",
      "1        T00112      C0146      P067  2024-05-27 22:23:54         1   \n",
      "2        T00166      C0127      P067  2024-04-25 07:38:55         1   \n",
      "3        T00272      C0087      P067  2024-03-26 22:55:37         2   \n",
      "4        T00363      C0070      P067  2024-03-21 15:10:10         3   \n",
      "\n",
      "   TotalValue   Price     CustomerName         Region  SignupDate  \\\n",
      "0      300.68  300.68   Andrea Jenkins         Europe  2022-12-03   \n",
      "1      300.68  300.68  Brittany Harvey           Asia  2024-09-04   \n",
      "2      300.68  300.68  Kathryn Stevens         Europe  2024-04-04   \n",
      "3      601.36  300.68  Travis Campbell  South America  2024-04-11   \n",
      "4      902.04  300.68    Timothy Perez         Europe  2022-03-15   \n",
      "\n",
      "                       ProductName     Category  \n",
      "0  ComfortLiving Bluetooth Speaker  Electronics  \n",
      "1  ComfortLiving Bluetooth Speaker  Electronics  \n",
      "2  ComfortLiving Bluetooth Speaker  Electronics  \n",
      "3  ComfortLiving Bluetooth Speaker  Electronics  \n",
      "4  ComfortLiving Bluetooth Speaker  Electronics  \n"
     ]
    }
   ],
   "source": [
    "# Dropping the redundant column (Price_y)\n",
    "dataset.drop(columns=[\"Price_y\"], inplace=True)\n",
    "\n",
    "# Renaming the remained column (Price_x) to \"Price\"\n",
    "dataset.rename(columns={\"Price_x\": \"Price\"}, inplace=True)\n",
    "\n",
    "# Displaying the cleaned dataset\n",
    "print(dataset.head())\n"
   ]
  },
  {
   "cell_type": "code",
   "execution_count": 6,
   "id": "bdf4244b",
   "metadata": {},
   "outputs": [
    {
     "data": {
      "text/html": [
       "<div>\n",
       "<style scoped>\n",
       "    .dataframe tbody tr th:only-of-type {\n",
       "        vertical-align: middle;\n",
       "    }\n",
       "\n",
       "    .dataframe tbody tr th {\n",
       "        vertical-align: top;\n",
       "    }\n",
       "\n",
       "    .dataframe thead th {\n",
       "        text-align: right;\n",
       "    }\n",
       "</style>\n",
       "<table border=\"1\" class=\"dataframe\">\n",
       "  <thead>\n",
       "    <tr style=\"text-align: right;\">\n",
       "      <th></th>\n",
       "      <th>TransactionID</th>\n",
       "      <th>CustomerID</th>\n",
       "      <th>ProductID</th>\n",
       "      <th>TransactionDate</th>\n",
       "      <th>Quantity</th>\n",
       "      <th>TotalValue</th>\n",
       "      <th>Price</th>\n",
       "      <th>CustomerName</th>\n",
       "      <th>Region</th>\n",
       "      <th>SignupDate</th>\n",
       "      <th>ProductName</th>\n",
       "      <th>Category</th>\n",
       "    </tr>\n",
       "  </thead>\n",
       "  <tbody>\n",
       "    <tr>\n",
       "      <th>0</th>\n",
       "      <td>T00001</td>\n",
       "      <td>C0199</td>\n",
       "      <td>P067</td>\n",
       "      <td>2024-08-25 12:38:23</td>\n",
       "      <td>1</td>\n",
       "      <td>300.68</td>\n",
       "      <td>300.68</td>\n",
       "      <td>Andrea Jenkins</td>\n",
       "      <td>Europe</td>\n",
       "      <td>2022-12-03</td>\n",
       "      <td>ComfortLiving Bluetooth Speaker</td>\n",
       "      <td>Electronics</td>\n",
       "    </tr>\n",
       "    <tr>\n",
       "      <th>1</th>\n",
       "      <td>T00112</td>\n",
       "      <td>C0146</td>\n",
       "      <td>P067</td>\n",
       "      <td>2024-05-27 22:23:54</td>\n",
       "      <td>1</td>\n",
       "      <td>300.68</td>\n",
       "      <td>300.68</td>\n",
       "      <td>Brittany Harvey</td>\n",
       "      <td>Asia</td>\n",
       "      <td>2024-09-04</td>\n",
       "      <td>ComfortLiving Bluetooth Speaker</td>\n",
       "      <td>Electronics</td>\n",
       "    </tr>\n",
       "    <tr>\n",
       "      <th>2</th>\n",
       "      <td>T00166</td>\n",
       "      <td>C0127</td>\n",
       "      <td>P067</td>\n",
       "      <td>2024-04-25 07:38:55</td>\n",
       "      <td>1</td>\n",
       "      <td>300.68</td>\n",
       "      <td>300.68</td>\n",
       "      <td>Kathryn Stevens</td>\n",
       "      <td>Europe</td>\n",
       "      <td>2024-04-04</td>\n",
       "      <td>ComfortLiving Bluetooth Speaker</td>\n",
       "      <td>Electronics</td>\n",
       "    </tr>\n",
       "    <tr>\n",
       "      <th>3</th>\n",
       "      <td>T00272</td>\n",
       "      <td>C0087</td>\n",
       "      <td>P067</td>\n",
       "      <td>2024-03-26 22:55:37</td>\n",
       "      <td>2</td>\n",
       "      <td>601.36</td>\n",
       "      <td>300.68</td>\n",
       "      <td>Travis Campbell</td>\n",
       "      <td>South America</td>\n",
       "      <td>2024-04-11</td>\n",
       "      <td>ComfortLiving Bluetooth Speaker</td>\n",
       "      <td>Electronics</td>\n",
       "    </tr>\n",
       "    <tr>\n",
       "      <th>4</th>\n",
       "      <td>T00363</td>\n",
       "      <td>C0070</td>\n",
       "      <td>P067</td>\n",
       "      <td>2024-03-21 15:10:10</td>\n",
       "      <td>3</td>\n",
       "      <td>902.04</td>\n",
       "      <td>300.68</td>\n",
       "      <td>Timothy Perez</td>\n",
       "      <td>Europe</td>\n",
       "      <td>2022-03-15</td>\n",
       "      <td>ComfortLiving Bluetooth Speaker</td>\n",
       "      <td>Electronics</td>\n",
       "    </tr>\n",
       "  </tbody>\n",
       "</table>\n",
       "</div>"
      ],
      "text/plain": [
       "  TransactionID CustomerID ProductID      TransactionDate  Quantity  \\\n",
       "0        T00001      C0199      P067  2024-08-25 12:38:23         1   \n",
       "1        T00112      C0146      P067  2024-05-27 22:23:54         1   \n",
       "2        T00166      C0127      P067  2024-04-25 07:38:55         1   \n",
       "3        T00272      C0087      P067  2024-03-26 22:55:37         2   \n",
       "4        T00363      C0070      P067  2024-03-21 15:10:10         3   \n",
       "\n",
       "   TotalValue   Price     CustomerName         Region  SignupDate  \\\n",
       "0      300.68  300.68   Andrea Jenkins         Europe  2022-12-03   \n",
       "1      300.68  300.68  Brittany Harvey           Asia  2024-09-04   \n",
       "2      300.68  300.68  Kathryn Stevens         Europe  2024-04-04   \n",
       "3      601.36  300.68  Travis Campbell  South America  2024-04-11   \n",
       "4      902.04  300.68    Timothy Perez         Europe  2022-03-15   \n",
       "\n",
       "                       ProductName     Category  \n",
       "0  ComfortLiving Bluetooth Speaker  Electronics  \n",
       "1  ComfortLiving Bluetooth Speaker  Electronics  \n",
       "2  ComfortLiving Bluetooth Speaker  Electronics  \n",
       "3  ComfortLiving Bluetooth Speaker  Electronics  \n",
       "4  ComfortLiving Bluetooth Speaker  Electronics  "
      ]
     },
     "execution_count": 6,
     "metadata": {},
     "output_type": "execute_result"
    }
   ],
   "source": [
    "dataset.head()"
   ]
  },
  {
   "cell_type": "markdown",
   "id": "945f3352",
   "metadata": {},
   "source": [
    "What is **TotalValue**?  \n",
    "In the dataset, **TotalValue** represents the total monetary value of a specific transaction.  \n",
    "It is calculated as:  \n",
    "\n",
    "<center><h5>TotalValue = Price × Quantity</h5></center>  \n",
    "\n",
    "Where:  \n",
    "- **Price**: The price of a single unit of the product involved in the transaction.  \n",
    "- **Quantity**: The number of units of the product purchased in that transaction.  \n"
   ]
  },
  {
   "cell_type": "markdown",
   "id": "c40146f0",
   "metadata": {},
   "source": [
    "### Verifying and Correcting 'TotalValue' Field"
   ]
  },
  {
   "cell_type": "code",
   "execution_count": 7,
   "id": "2575e874",
   "metadata": {},
   "outputs": [
    {
     "name": "stdout",
     "output_type": "stream",
     "text": [
      "Number of incorrect 'TotalValue' rows: 88\n"
     ]
    }
   ],
   "source": [
    "# 2. Validating 'TotalValue'\n",
    "incorrect_totalvalue = dataset[dataset[\"TotalValue\"] != dataset[\"Price\"] * dataset[\"Quantity\"]]\n",
    "print(f\"Number of incorrect 'TotalValue' rows: {len(incorrect_totalvalue)}\")\n",
    "if len(incorrect_totalvalue) == 0:\n",
    "    print(\"All 'TotalValue' calculations are correct.\")"
   ]
  },
  {
   "cell_type": "code",
   "execution_count": 8,
   "id": "f532c1a0",
   "metadata": {},
   "outputs": [
    {
     "name": "stdout",
     "output_type": "stream",
     "text": [
      "Number of incorrect 'TotalValue' rows after correction: 0\n",
      "All discrepancies in 'TotalValue' have been successfully corrected.\n"
     ]
    }
   ],
   "source": [
    "# Correcting 'TotalValue' based on 'Price' and 'Quantity' for rows with discrepancies\n",
    "dataset.loc[dataset[\"TotalValue\"] != dataset[\"Price\"] * dataset[\"Quantity\"], \"TotalValue\"] = (\n",
    "    dataset[\"Price\"] * dataset[\"Quantity\"]\n",
    ")\n",
    "\n",
    "# Verifying corrections\n",
    "incorrect_totalvalue_after_correction = dataset[dataset[\"TotalValue\"] != dataset[\"Price\"] * dataset[\"Quantity\"]]\n",
    "\n",
    "# Displaying the number of discrepancies after correction\n",
    "print(f\"Number of incorrect 'TotalValue' rows after correction: {len(incorrect_totalvalue_after_correction)}\")\n",
    "\n",
    "# Confirming that the incorrect values has been corrected\n",
    "if len(incorrect_totalvalue_after_correction) == 0:\n",
    "    print(\"All discrepancies in 'TotalValue' have been successfully corrected.\")\n"
   ]
  },
  {
   "cell_type": "markdown",
   "id": "746b6491",
   "metadata": {},
   "source": [
    "### Analyzing the Unique Product, Category, and Region Data"
   ]
  },
  {
   "cell_type": "code",
   "execution_count": 9,
   "id": "3de38be4",
   "metadata": {},
   "outputs": [
    {
     "name": "stdout",
     "output_type": "stream",
     "text": [
      "Total Unique Products: 66\n",
      "\n",
      "List of Unique Product Names:\n",
      "                        ProductName\n",
      "0   ComfortLiving Bluetooth Speaker\n",
      "1                 HomeSense T-Shirt\n",
      "2             ActiveWear Smartphone\n",
      "3                  TechPro Textbook\n",
      "4             TechPro Running Shoes\n",
      "..                              ...\n",
      "61           HomeSense Cookware Set\n",
      "62      BookWorld Bluetooth Speaker\n",
      "63                 SoundWave Laptop\n",
      "64      SoundWave Bluetooth Speaker\n",
      "65                SoundWave T-Shirt\n",
      "\n",
      "[66 rows x 1 columns]\n"
     ]
    }
   ],
   "source": [
    "# Displaying all unique product names\n",
    "unique_products = dataset[\"ProductName\"].unique()\n",
    "\n",
    "# Converting to a DataFrame for a better readability\n",
    "unique_products_df = pd.DataFrame(unique_products, columns=[\"ProductName\"])\n",
    "\n",
    "# Displaying the total number of unique products\n",
    "print(f\"Total Unique Products: {len(unique_products)}\")\n",
    "\n",
    "# Displaying the product names\n",
    "print(\"\\nList of Unique Product Names:\")\n",
    "print(unique_products_df)\n"
   ]
  },
  {
   "cell_type": "code",
   "execution_count": 10,
   "id": "edb4f195",
   "metadata": {},
   "outputs": [
    {
     "name": "stdout",
     "output_type": "stream",
     "text": [
      "Total Unique Categories: 4\n",
      "\n",
      "List of Unique Product Categories:\n",
      "      Category\n",
      "0  Electronics\n",
      "1     Clothing\n",
      "2        Books\n",
      "3   Home Decor\n"
     ]
    }
   ],
   "source": [
    "# Displaying all unique product categories\n",
    "unique_categories = dataset[\"Category\"].unique()\n",
    "\n",
    "# Converting to a DataFrame for a better readability\n",
    "unique_categories_df = pd.DataFrame(unique_categories, columns=[\"Category\"])\n",
    "\n",
    "# Displaying the total number of unique categories\n",
    "print(f\"Total Unique Categories: {len(unique_categories)}\")\n",
    "\n",
    "# Displaying the category names\n",
    "print(\"\\nList of Unique Product Categories:\")\n",
    "print(unique_categories_df)\n"
   ]
  },
  {
   "cell_type": "code",
   "execution_count": 11,
   "id": "2dbd8ae3",
   "metadata": {},
   "outputs": [
    {
     "name": "stdout",
     "output_type": "stream",
     "text": [
      "Total Unique Regions: 4\n",
      "\n",
      "List of Unique Regions:\n",
      "          Region\n",
      "0         Europe\n",
      "1           Asia\n",
      "2  South America\n",
      "3  North America\n"
     ]
    }
   ],
   "source": [
    "# Displaying all unique regions\n",
    "unique_regions = dataset[\"Region\"].unique()\n",
    "\n",
    "# Converting to a DataFrame for a better readability\n",
    "unique_regions_df = pd.DataFrame(unique_regions, columns=[\"Region\"])\n",
    "\n",
    "# Displaying the total number of unique regions\n",
    "print(f\"Total Unique Regions: {len(unique_regions)}\")\n",
    "\n",
    "# Displaying the region names\n",
    "print(\"\\nList of Unique Regions:\")\n",
    "print(unique_regions_df)"
   ]
  },
  {
   "cell_type": "markdown",
   "id": "6c5ec103",
   "metadata": {},
   "source": [
    "### Imputation handling"
   ]
  },
  {
   "cell_type": "code",
   "execution_count": 12,
   "id": "2bf1ee61",
   "metadata": {},
   "outputs": [
    {
     "name": "stdout",
     "output_type": "stream",
     "text": [
      "Missing values in the dataset:\n",
      "Series([], dtype: int64)\n",
      "\n",
      "Total number of missing values in the dataset: 0\n"
     ]
    }
   ],
   "source": [
    "# Checking for missing values in the dataset\n",
    "missing_values = dataset.isnull().sum()\n",
    "\n",
    "# Displaying columns with missing values\n",
    "print(\"Missing values in the dataset:\")\n",
    "print(missing_values[missing_values > 0])\n",
    "\n",
    "# Total number of missing values across all columns\n",
    "total_missing = dataset.isnull().sum().sum()\n",
    "print(f\"\\nTotal number of missing values in the dataset: {total_missing}\")\n"
   ]
  },
  {
   "cell_type": "markdown",
   "id": "5b131a7f",
   "metadata": {},
   "source": [
    "- There is no missing values in this dataset."
   ]
  },
  {
   "cell_type": "markdown",
   "id": "f52b4859",
   "metadata": {},
   "source": [
    "#### Total Spending by Customer"
   ]
  },
  {
   "cell_type": "code",
   "execution_count": 13,
   "id": "c61bb353",
   "metadata": {},
   "outputs": [
    {
     "name": "stdout",
     "output_type": "stream",
     "text": [
      "Total Spending by Customer:\n",
      "CustomerID\n",
      "C0001    3354.52\n",
      "C0002    1862.74\n",
      "C0003    2725.38\n",
      "C0004    5354.88\n",
      "C0005    2034.24\n",
      "Name: TotalValue, dtype: float64\n"
     ]
    }
   ],
   "source": [
    "customer_total_spending = dataset.groupby(\"CustomerID\")[\"TotalValue\"].sum()\n",
    "\n",
    "print(\"Total Spending by Customer:\")\n",
    "print(customer_total_spending.head())"
   ]
  },
  {
   "cell_type": "markdown",
   "id": "949d1ca0",
   "metadata": {},
   "source": [
    "- Total spending by the each customer "
   ]
  },
  {
   "cell_type": "markdown",
   "id": "241ceb87",
   "metadata": {},
   "source": [
    "#### Transaction Count (Frequency)"
   ]
  },
  {
   "cell_type": "code",
   "execution_count": 14,
   "id": "34374504",
   "metadata": {},
   "outputs": [
    {
     "name": "stdout",
     "output_type": "stream",
     "text": [
      "\n",
      "Transaction Frequency by Customer:\n",
      "CustomerID\n",
      "C0001    5\n",
      "C0002    4\n",
      "C0003    4\n",
      "C0004    8\n",
      "C0005    3\n",
      "Name: TransactionID, dtype: int64\n"
     ]
    }
   ],
   "source": [
    "customer_transaction_count = dataset.groupby(\"CustomerID\")[\"TransactionID\"].count()\n",
    "\n",
    "print(\"\\nTransaction Frequency by Customer:\")\n",
    "print(customer_transaction_count.head())"
   ]
  },
  {
   "cell_type": "markdown",
   "id": "81df1f79",
   "metadata": {},
   "source": [
    "- It gives the number of transactions made by the each customer"
   ]
  },
  {
   "cell_type": "markdown",
   "id": "2e17e93f",
   "metadata": {},
   "source": [
    "#### Average Price of Purchased Products"
   ]
  },
  {
   "cell_type": "code",
   "execution_count": 15,
   "id": "9692b02a",
   "metadata": {},
   "outputs": [
    {
     "name": "stdout",
     "output_type": "stream",
     "text": [
      "\n",
      "Average Price by Customer:\n",
      "CustomerID\n",
      "C0001    278.334000\n",
      "C0002    208.920000\n",
      "C0003    195.707500\n",
      "C0004    240.636250\n",
      "C0005    291.603333\n",
      "Name: Price, dtype: float64\n"
     ]
    }
   ],
   "source": [
    "customer_average_price = dataset.groupby(\"CustomerID\")[\"Price\"].mean()\n",
    "\n",
    "print(\"\\nAverage Price by Customer:\")\n",
    "print(customer_average_price.head())"
   ]
  },
  {
   "cell_type": "markdown",
   "id": "454a4d86",
   "metadata": {},
   "source": [
    "- It displays the average price of products purchased by each customer."
   ]
  },
  {
   "cell_type": "markdown",
   "id": "a58bda6f",
   "metadata": {},
   "source": [
    "#### Favourite (Most Purchased) Product Category"
   ]
  },
  {
   "cell_type": "code",
   "execution_count": 16,
   "id": "bee204a8",
   "metadata": {},
   "outputs": [
    {
     "name": "stdout",
     "output_type": "stream",
     "text": [
      "\n",
      "Favourite Category by Customer:\n",
      "CustomerID\n",
      "C0001    Electronics\n",
      "C0002       Clothing\n",
      "C0003     Home Decor\n",
      "C0004          Books\n",
      "C0005    Electronics\n",
      "Name: Category, dtype: object\n"
     ]
    }
   ],
   "source": [
    "customer_favourite_category = dataset.groupby(\"CustomerID\")[\"Category\"].agg(lambda x: x.mode()[0])\n",
    "\n",
    "\n",
    "print(\"\\nFavourite Category by Customer:\")\n",
    "print(customer_favourite_category.head())"
   ]
  },
  {
   "cell_type": "markdown",
   "id": "0c067efd",
   "metadata": {},
   "source": [
    "- It Shows the most frequently purchased product category.\n"
   ]
  },
  {
   "cell_type": "markdown",
   "id": "f732d1d5",
   "metadata": {},
   "source": [
    "#### Region"
   ]
  },
  {
   "cell_type": "code",
   "execution_count": 17,
   "id": "3db3dbe3",
   "metadata": {},
   "outputs": [
    {
     "name": "stdout",
     "output_type": "stream",
     "text": [
      "\n",
      "Region by Customer:\n",
      "CustomerID\n",
      "C0001    South America\n",
      "C0002             Asia\n",
      "C0003    South America\n",
      "C0004    South America\n",
      "C0005             Asia\n",
      "Name: Region, dtype: object\n"
     ]
    }
   ],
   "source": [
    "customer_region = dataset.groupby(\"CustomerID\")[\"Region\"].first()\n",
    "\n",
    "print(\"\\nRegion by Customer:\")\n",
    "print(customer_region.head())"
   ]
  },
  {
   "cell_type": "markdown",
   "id": "e8921e1a",
   "metadata": {},
   "source": [
    "- It displays the region of each customer"
   ]
  },
  {
   "cell_type": "code",
   "execution_count": 18,
   "id": "52992c95",
   "metadata": {},
   "outputs": [
    {
     "name": "stdout",
     "output_type": "stream",
     "text": [
      "\n",
      "Customer Features:\n",
      "  CustomerID  customer_total_spending  customer_transaction_count  \\\n",
      "0      C0001                  3354.52                           5   \n",
      "1      C0002                  1862.74                           4   \n",
      "2      C0003                  2725.38                           4   \n",
      "3      C0004                  5354.88                           8   \n",
      "4      C0005                  2034.24                           3   \n",
      "\n",
      "   customer_average_price customer_favourite_category customer_region  \n",
      "0              278.334000                 Electronics   South America  \n",
      "1              208.920000                    Clothing            Asia  \n",
      "2              195.707500                  Home Decor   South America  \n",
      "3              240.636250                       Books   South America  \n",
      "4              291.603333                 Electronics            Asia  \n"
     ]
    }
   ],
   "source": [
    "# Concatenating customer-level features\n",
    "customer_features = pd.concat(\n",
    "    [customer_total_spending, customer_transaction_count, customer_average_price, customer_favourite_category, customer_region], \n",
    "    axis=1\n",
    ")\n",
    "\n",
    "# Renaming columns to match the original variable names\n",
    "customer_features.columns = [\n",
    "    \"customer_total_spending\", \n",
    "    \"customer_transaction_count\", \n",
    "    \"customer_average_price\", \n",
    "    \"customer_favourite_category\", \n",
    "    \"customer_region\"\n",
    "]\n",
    "\n",
    "# Resetting index for better readability\n",
    "customer_features = customer_features.reset_index()\n",
    "\n",
    "# Displaying the resulting DataFrame\n",
    "print(\"\\nCustomer Features:\")\n",
    "print(customer_features.head())\n"
   ]
  },
  {
   "cell_type": "code",
   "execution_count": 19,
   "id": "a8c8d996",
   "metadata": {},
   "outputs": [
    {
     "data": {
      "text/html": [
       "<div>\n",
       "<style scoped>\n",
       "    .dataframe tbody tr th:only-of-type {\n",
       "        vertical-align: middle;\n",
       "    }\n",
       "\n",
       "    .dataframe tbody tr th {\n",
       "        vertical-align: top;\n",
       "    }\n",
       "\n",
       "    .dataframe thead th {\n",
       "        text-align: right;\n",
       "    }\n",
       "</style>\n",
       "<table border=\"1\" class=\"dataframe\">\n",
       "  <thead>\n",
       "    <tr style=\"text-align: right;\">\n",
       "      <th></th>\n",
       "      <th>CustomerID</th>\n",
       "      <th>customer_total_spending</th>\n",
       "      <th>customer_transaction_count</th>\n",
       "      <th>customer_average_price</th>\n",
       "      <th>customer_favourite_category</th>\n",
       "      <th>customer_region</th>\n",
       "    </tr>\n",
       "  </thead>\n",
       "  <tbody>\n",
       "    <tr>\n",
       "      <th>0</th>\n",
       "      <td>C0001</td>\n",
       "      <td>3354.52</td>\n",
       "      <td>5</td>\n",
       "      <td>278.334000</td>\n",
       "      <td>Electronics</td>\n",
       "      <td>South America</td>\n",
       "    </tr>\n",
       "    <tr>\n",
       "      <th>1</th>\n",
       "      <td>C0002</td>\n",
       "      <td>1862.74</td>\n",
       "      <td>4</td>\n",
       "      <td>208.920000</td>\n",
       "      <td>Clothing</td>\n",
       "      <td>Asia</td>\n",
       "    </tr>\n",
       "    <tr>\n",
       "      <th>2</th>\n",
       "      <td>C0003</td>\n",
       "      <td>2725.38</td>\n",
       "      <td>4</td>\n",
       "      <td>195.707500</td>\n",
       "      <td>Home Decor</td>\n",
       "      <td>South America</td>\n",
       "    </tr>\n",
       "    <tr>\n",
       "      <th>3</th>\n",
       "      <td>C0004</td>\n",
       "      <td>5354.88</td>\n",
       "      <td>8</td>\n",
       "      <td>240.636250</td>\n",
       "      <td>Books</td>\n",
       "      <td>South America</td>\n",
       "    </tr>\n",
       "    <tr>\n",
       "      <th>4</th>\n",
       "      <td>C0005</td>\n",
       "      <td>2034.24</td>\n",
       "      <td>3</td>\n",
       "      <td>291.603333</td>\n",
       "      <td>Electronics</td>\n",
       "      <td>Asia</td>\n",
       "    </tr>\n",
       "  </tbody>\n",
       "</table>\n",
       "</div>"
      ],
      "text/plain": [
       "  CustomerID  customer_total_spending  customer_transaction_count  \\\n",
       "0      C0001                  3354.52                           5   \n",
       "1      C0002                  1862.74                           4   \n",
       "2      C0003                  2725.38                           4   \n",
       "3      C0004                  5354.88                           8   \n",
       "4      C0005                  2034.24                           3   \n",
       "\n",
       "   customer_average_price customer_favourite_category customer_region  \n",
       "0              278.334000                 Electronics   South America  \n",
       "1              208.920000                    Clothing            Asia  \n",
       "2              195.707500                  Home Decor   South America  \n",
       "3              240.636250                       Books   South America  \n",
       "4              291.603333                 Electronics            Asia  "
      ]
     },
     "execution_count": 19,
     "metadata": {},
     "output_type": "execute_result"
    }
   ],
   "source": [
    "customer_features.head()"
   ]
  },
  {
   "cell_type": "markdown",
   "id": "626271c7",
   "metadata": {},
   "source": [
    "This following dataset columns are the most helpful for building a Lookalike model since, they successfully capture the consumer behavior, preferences, and patterns:\n",
    "\n",
    "#### Useful Columns for Lookalike Model\n",
    "- **CustomerID**: For the purpose of mapping recommendations, this serves as each customer's primary identifier.  \n",
    "- **customer_total_spending**: Represents the entire amount of money that the customer has spent. It's a crucial indicator for understanding customer purchasing patterns and business worth.  \n",
    "- **customer_transaction_count**: The number of transactions indicates how frequently customers make purchases, which is crucial information for figuring out how engaged customers are.  \n",
    "- **customer_average_price**: A customer's purchasing preferences are indicated by the average price of the goods they buy (e.g., budget-friendly vs. premium).  \n",
    "- **customer_favourite_category**: The most purchased product category provides information about consumer interests and preferences, which is essential for identifying similar customers.  \n",
    "- **customer_region**: Due to geographical trends, availability, or tastes, customers from the same region may have similar purchases.  \n"
   ]
  },
  {
   "cell_type": "markdown",
   "id": "68219c48",
   "metadata": {},
   "source": [
    "#### Why These Columns Are Choosen ?  \n",
    "These columns represents the key aspects of customer behavior:  \n",
    "\n",
    "- **Spending behavior**: (customer_total_spending, customer_average_price)\n",
    "- **Purchase frequency**: (customer_transaction_count)\n",
    "- **Product preferences**: (customer_favourite_category)\n",
    "- **Geographic influence**: (customer_region)"
   ]
  },
  {
   "cell_type": "markdown",
   "id": "622a036a",
   "metadata": {},
   "source": [
    "### Encoding the Categorical Variables"
   ]
  },
  {
   "cell_type": "code",
   "execution_count": 20,
   "id": "21c3d7b7",
   "metadata": {},
   "outputs": [],
   "source": [
    "customer_features = pd.get_dummies(customer_features, columns=[\"customer_region\", \"customer_favourite_category\"], drop_first=True)"
   ]
  },
  {
   "cell_type": "code",
   "execution_count": 21,
   "id": "55c46adb",
   "metadata": {},
   "outputs": [
    {
     "data": {
      "text/html": [
       "<div>\n",
       "<style scoped>\n",
       "    .dataframe tbody tr th:only-of-type {\n",
       "        vertical-align: middle;\n",
       "    }\n",
       "\n",
       "    .dataframe tbody tr th {\n",
       "        vertical-align: top;\n",
       "    }\n",
       "\n",
       "    .dataframe thead th {\n",
       "        text-align: right;\n",
       "    }\n",
       "</style>\n",
       "<table border=\"1\" class=\"dataframe\">\n",
       "  <thead>\n",
       "    <tr style=\"text-align: right;\">\n",
       "      <th></th>\n",
       "      <th>CustomerID</th>\n",
       "      <th>customer_total_spending</th>\n",
       "      <th>customer_transaction_count</th>\n",
       "      <th>customer_average_price</th>\n",
       "      <th>customer_region_Europe</th>\n",
       "      <th>customer_region_North America</th>\n",
       "      <th>customer_region_South America</th>\n",
       "      <th>customer_favourite_category_Clothing</th>\n",
       "      <th>customer_favourite_category_Electronics</th>\n",
       "      <th>customer_favourite_category_Home Decor</th>\n",
       "    </tr>\n",
       "  </thead>\n",
       "  <tbody>\n",
       "    <tr>\n",
       "      <th>0</th>\n",
       "      <td>C0001</td>\n",
       "      <td>3354.52</td>\n",
       "      <td>5</td>\n",
       "      <td>278.334000</td>\n",
       "      <td>False</td>\n",
       "      <td>False</td>\n",
       "      <td>True</td>\n",
       "      <td>False</td>\n",
       "      <td>True</td>\n",
       "      <td>False</td>\n",
       "    </tr>\n",
       "    <tr>\n",
       "      <th>1</th>\n",
       "      <td>C0002</td>\n",
       "      <td>1862.74</td>\n",
       "      <td>4</td>\n",
       "      <td>208.920000</td>\n",
       "      <td>False</td>\n",
       "      <td>False</td>\n",
       "      <td>False</td>\n",
       "      <td>True</td>\n",
       "      <td>False</td>\n",
       "      <td>False</td>\n",
       "    </tr>\n",
       "    <tr>\n",
       "      <th>2</th>\n",
       "      <td>C0003</td>\n",
       "      <td>2725.38</td>\n",
       "      <td>4</td>\n",
       "      <td>195.707500</td>\n",
       "      <td>False</td>\n",
       "      <td>False</td>\n",
       "      <td>True</td>\n",
       "      <td>False</td>\n",
       "      <td>False</td>\n",
       "      <td>True</td>\n",
       "    </tr>\n",
       "    <tr>\n",
       "      <th>3</th>\n",
       "      <td>C0004</td>\n",
       "      <td>5354.88</td>\n",
       "      <td>8</td>\n",
       "      <td>240.636250</td>\n",
       "      <td>False</td>\n",
       "      <td>False</td>\n",
       "      <td>True</td>\n",
       "      <td>False</td>\n",
       "      <td>False</td>\n",
       "      <td>False</td>\n",
       "    </tr>\n",
       "    <tr>\n",
       "      <th>4</th>\n",
       "      <td>C0005</td>\n",
       "      <td>2034.24</td>\n",
       "      <td>3</td>\n",
       "      <td>291.603333</td>\n",
       "      <td>False</td>\n",
       "      <td>False</td>\n",
       "      <td>False</td>\n",
       "      <td>False</td>\n",
       "      <td>True</td>\n",
       "      <td>False</td>\n",
       "    </tr>\n",
       "  </tbody>\n",
       "</table>\n",
       "</div>"
      ],
      "text/plain": [
       "  CustomerID  customer_total_spending  customer_transaction_count  \\\n",
       "0      C0001                  3354.52                           5   \n",
       "1      C0002                  1862.74                           4   \n",
       "2      C0003                  2725.38                           4   \n",
       "3      C0004                  5354.88                           8   \n",
       "4      C0005                  2034.24                           3   \n",
       "\n",
       "   customer_average_price  customer_region_Europe  \\\n",
       "0              278.334000                   False   \n",
       "1              208.920000                   False   \n",
       "2              195.707500                   False   \n",
       "3              240.636250                   False   \n",
       "4              291.603333                   False   \n",
       "\n",
       "   customer_region_North America  customer_region_South America  \\\n",
       "0                          False                           True   \n",
       "1                          False                          False   \n",
       "2                          False                           True   \n",
       "3                          False                           True   \n",
       "4                          False                          False   \n",
       "\n",
       "   customer_favourite_category_Clothing  \\\n",
       "0                                 False   \n",
       "1                                  True   \n",
       "2                                 False   \n",
       "3                                 False   \n",
       "4                                 False   \n",
       "\n",
       "   customer_favourite_category_Electronics  \\\n",
       "0                                     True   \n",
       "1                                    False   \n",
       "2                                    False   \n",
       "3                                    False   \n",
       "4                                     True   \n",
       "\n",
       "   customer_favourite_category_Home Decor  \n",
       "0                                   False  \n",
       "1                                   False  \n",
       "2                                    True  \n",
       "3                                   False  \n",
       "4                                   False  "
      ]
     },
     "execution_count": 21,
     "metadata": {},
     "output_type": "execute_result"
    }
   ],
   "source": [
    "customer_features.head()"
   ]
  },
  {
   "cell_type": "markdown",
   "id": "5376af12",
   "metadata": {},
   "source": [
    "- Machine learning algorithms and similarity metrics (like cosine similarity) require numerical data.\n",
    "- One-hot encoding is a technique used to convert categorical data into a binary (0 or 1) numerical format."
   ]
  },
  {
   "cell_type": "code",
   "execution_count": 22,
   "id": "7b0c7bda",
   "metadata": {},
   "outputs": [
    {
     "name": "stdout",
     "output_type": "stream",
     "text": [
      "CustomerID                                  object\n",
      "customer_total_spending                    float64\n",
      "customer_transaction_count                   int64\n",
      "customer_average_price                     float64\n",
      "customer_region_Europe                        bool\n",
      "customer_region_North America                 bool\n",
      "customer_region_South America                 bool\n",
      "customer_favourite_category_Clothing          bool\n",
      "customer_favourite_category_Electronics       bool\n",
      "customer_favourite_category_Home Decor        bool\n",
      "dtype: object\n"
     ]
    }
   ],
   "source": [
    "print(customer_features.dtypes)\n"
   ]
  },
  {
   "cell_type": "code",
   "execution_count": 23,
   "id": "139511d8",
   "metadata": {},
   "outputs": [
    {
     "name": "stdout",
     "output_type": "stream",
     "text": [
      "CustomerID                                  object\n",
      "customer_total_spending                    float64\n",
      "customer_transaction_count                   int64\n",
      "customer_average_price                     float64\n",
      "customer_region_Europe                       int64\n",
      "customer_region_North America                int64\n",
      "customer_region_South America                int64\n",
      "customer_favourite_category_Clothing         int64\n",
      "customer_favourite_category_Electronics      int64\n",
      "customer_favourite_category_Home Decor       int64\n",
      "dtype: object\n"
     ]
    }
   ],
   "source": [
    "# Identifying the boolean columns\n",
    "bool_columns = customer_features.select_dtypes(include=['bool']).columns\n",
    "\n",
    "# Converting boolean columns to the integers\n",
    "customer_features[bool_columns] = customer_features[bool_columns].astype(int)\n",
    "\n",
    "# Verifying the updated data types\n",
    "print(customer_features.dtypes)\n"
   ]
  },
  {
   "cell_type": "code",
   "execution_count": 24,
   "id": "1964133e",
   "metadata": {},
   "outputs": [
    {
     "data": {
      "text/html": [
       "<div>\n",
       "<style scoped>\n",
       "    .dataframe tbody tr th:only-of-type {\n",
       "        vertical-align: middle;\n",
       "    }\n",
       "\n",
       "    .dataframe tbody tr th {\n",
       "        vertical-align: top;\n",
       "    }\n",
       "\n",
       "    .dataframe thead th {\n",
       "        text-align: right;\n",
       "    }\n",
       "</style>\n",
       "<table border=\"1\" class=\"dataframe\">\n",
       "  <thead>\n",
       "    <tr style=\"text-align: right;\">\n",
       "      <th></th>\n",
       "      <th>CustomerID</th>\n",
       "      <th>customer_total_spending</th>\n",
       "      <th>customer_transaction_count</th>\n",
       "      <th>customer_average_price</th>\n",
       "      <th>customer_region_Europe</th>\n",
       "      <th>customer_region_North America</th>\n",
       "      <th>customer_region_South America</th>\n",
       "      <th>customer_favourite_category_Clothing</th>\n",
       "      <th>customer_favourite_category_Electronics</th>\n",
       "      <th>customer_favourite_category_Home Decor</th>\n",
       "    </tr>\n",
       "  </thead>\n",
       "  <tbody>\n",
       "    <tr>\n",
       "      <th>0</th>\n",
       "      <td>C0001</td>\n",
       "      <td>3354.52</td>\n",
       "      <td>5</td>\n",
       "      <td>278.334000</td>\n",
       "      <td>0</td>\n",
       "      <td>0</td>\n",
       "      <td>1</td>\n",
       "      <td>0</td>\n",
       "      <td>1</td>\n",
       "      <td>0</td>\n",
       "    </tr>\n",
       "    <tr>\n",
       "      <th>1</th>\n",
       "      <td>C0002</td>\n",
       "      <td>1862.74</td>\n",
       "      <td>4</td>\n",
       "      <td>208.920000</td>\n",
       "      <td>0</td>\n",
       "      <td>0</td>\n",
       "      <td>0</td>\n",
       "      <td>1</td>\n",
       "      <td>0</td>\n",
       "      <td>0</td>\n",
       "    </tr>\n",
       "    <tr>\n",
       "      <th>2</th>\n",
       "      <td>C0003</td>\n",
       "      <td>2725.38</td>\n",
       "      <td>4</td>\n",
       "      <td>195.707500</td>\n",
       "      <td>0</td>\n",
       "      <td>0</td>\n",
       "      <td>1</td>\n",
       "      <td>0</td>\n",
       "      <td>0</td>\n",
       "      <td>1</td>\n",
       "    </tr>\n",
       "    <tr>\n",
       "      <th>3</th>\n",
       "      <td>C0004</td>\n",
       "      <td>5354.88</td>\n",
       "      <td>8</td>\n",
       "      <td>240.636250</td>\n",
       "      <td>0</td>\n",
       "      <td>0</td>\n",
       "      <td>1</td>\n",
       "      <td>0</td>\n",
       "      <td>0</td>\n",
       "      <td>0</td>\n",
       "    </tr>\n",
       "    <tr>\n",
       "      <th>4</th>\n",
       "      <td>C0005</td>\n",
       "      <td>2034.24</td>\n",
       "      <td>3</td>\n",
       "      <td>291.603333</td>\n",
       "      <td>0</td>\n",
       "      <td>0</td>\n",
       "      <td>0</td>\n",
       "      <td>0</td>\n",
       "      <td>1</td>\n",
       "      <td>0</td>\n",
       "    </tr>\n",
       "  </tbody>\n",
       "</table>\n",
       "</div>"
      ],
      "text/plain": [
       "  CustomerID  customer_total_spending  customer_transaction_count  \\\n",
       "0      C0001                  3354.52                           5   \n",
       "1      C0002                  1862.74                           4   \n",
       "2      C0003                  2725.38                           4   \n",
       "3      C0004                  5354.88                           8   \n",
       "4      C0005                  2034.24                           3   \n",
       "\n",
       "   customer_average_price  customer_region_Europe  \\\n",
       "0              278.334000                       0   \n",
       "1              208.920000                       0   \n",
       "2              195.707500                       0   \n",
       "3              240.636250                       0   \n",
       "4              291.603333                       0   \n",
       "\n",
       "   customer_region_North America  customer_region_South America  \\\n",
       "0                              0                              1   \n",
       "1                              0                              0   \n",
       "2                              0                              1   \n",
       "3                              0                              1   \n",
       "4                              0                              0   \n",
       "\n",
       "   customer_favourite_category_Clothing  \\\n",
       "0                                     0   \n",
       "1                                     1   \n",
       "2                                     0   \n",
       "3                                     0   \n",
       "4                                     0   \n",
       "\n",
       "   customer_favourite_category_Electronics  \\\n",
       "0                                        1   \n",
       "1                                        0   \n",
       "2                                        0   \n",
       "3                                        0   \n",
       "4                                        1   \n",
       "\n",
       "   customer_favourite_category_Home Decor  \n",
       "0                                       0  \n",
       "1                                       0  \n",
       "2                                       1  \n",
       "3                                       0  \n",
       "4                                       0  "
      ]
     },
     "execution_count": 24,
     "metadata": {},
     "output_type": "execute_result"
    }
   ],
   "source": [
    "customer_features.head()"
   ]
  },
  {
   "cell_type": "markdown",
   "id": "08057599",
   "metadata": {},
   "source": [
    "- Transforming categorical variables (customer_region,customer_favourite_category) into numeric format for similarity calculations."
   ]
  },
  {
   "cell_type": "markdown",
   "id": "d5ab6895",
   "metadata": {},
   "source": [
    "### Standardization"
   ]
  },
  {
   "cell_type": "code",
   "execution_count": 25,
   "id": "049af9fd",
   "metadata": {},
   "outputs": [],
   "source": [
    "from sklearn.preprocessing import StandardScaler\n",
    "scaler = StandardScaler()\n",
    "scaled_features = scaler.fit_transform(customer_features.drop(columns=[\"CustomerID\"]))"
   ]
  },
  {
   "cell_type": "code",
   "execution_count": 26,
   "id": "b36df377",
   "metadata": {},
   "outputs": [
    {
     "data": {
      "text/plain": [
       "array([[-0.06170143, -0.01145819,  0.09467022, ..., -0.54056248,\n",
       "         1.84992492, -0.51721942],\n",
       "       [-0.87774353, -0.46749414, -0.90401592, ...,  1.84992492,\n",
       "        -0.54056248, -0.51721942],\n",
       "       [-0.40585722, -0.46749414, -1.09410928, ..., -0.54056248,\n",
       "        -0.54056248,  1.93341543],\n",
       "       ...,\n",
       "       [-1.38697529, -1.37956603, -0.46110018, ...,  1.84992492,\n",
       "        -0.54056248, -0.51721942],\n",
       "       [-0.81399315, -0.46749414, -0.30420572, ..., -0.54056248,\n",
       "         1.84992492, -0.51721942],\n",
       "       [ 0.70636652, -0.01145819,  0.35611784, ...,  1.84992492,\n",
       "        -0.54056248, -0.51721942]])"
      ]
     },
     "execution_count": 26,
     "metadata": {},
     "output_type": "execute_result"
    }
   ],
   "source": [
    "scaled_features"
   ]
  },
  {
   "cell_type": "markdown",
   "id": "31de1ab1",
   "metadata": {},
   "source": [
    "Why we had Scaled Features?  \n",
    "It standardizes the range of numerical data, and ensures:\n",
    "\n",
    "- All the features be equally contributed to the model.  \n",
    "- It Avoids the dominance of features with larger ranges over smaller ones.  \n",
    "\n",
    "**Eg**:  \n",
    "If **customer_total_spending** ranges in thousands, and **customer_transaction_count** is typically single digits, the larger range might overpower smaller ones in similarity calculations or distance-based models (like cosine similarity or KNN).  \n"
   ]
  },
  {
   "cell_type": "markdown",
   "id": "dcfe0c92",
   "metadata": {},
   "source": [
    "###  Computing Similarity Matrix"
   ]
  },
  {
   "cell_type": "code",
   "execution_count": 27,
   "id": "c957e5c7",
   "metadata": {},
   "outputs": [],
   "source": [
    "from sklearn.metrics.pairwise import cosine_similarity\n",
    "similarity_matrix = cosine_similarity(scaled_features)"
   ]
  },
  {
   "cell_type": "code",
   "execution_count": 28,
   "id": "192f48c2",
   "metadata": {},
   "outputs": [
    {
     "data": {
      "text/plain": [
       "array([[ 1.        , -0.30649831,  0.15544862, ..., -0.37235445,\n",
       "         0.29656692, -0.33432379],\n",
       "       [-0.30649831,  1.        , -0.06499741, ...,  0.66787063,\n",
       "        -0.10422184,  0.65882546],\n",
       "       [ 0.15544862, -0.06499741,  1.        , ..., -0.16580598,\n",
       "        -0.28750152, -0.38596243],\n",
       "       ...,\n",
       "       [-0.37235445,  0.66787063, -0.16580598, ...,  1.        ,\n",
       "         0.38550092,  0.31606985],\n",
       "       [ 0.29656692, -0.10422184, -0.28750152, ...,  0.38550092,\n",
       "         1.        , -0.38385404],\n",
       "       [-0.33432379,  0.65882546, -0.38596243, ...,  0.31606985,\n",
       "        -0.38385404,  1.        ]])"
      ]
     },
     "execution_count": 28,
     "metadata": {},
     "output_type": "execute_result"
    }
   ],
   "source": [
    "similarity_matrix"
   ]
  },
  {
   "cell_type": "code",
   "execution_count": 29,
   "id": "df35ec40",
   "metadata": {},
   "outputs": [
    {
     "name": "stdout",
     "output_type": "stream",
     "text": [
      "CustomerID     C0001     C0002     C0003     C0004     C0005     C0006  \\\n",
      "CustomerID                                                               \n",
      "C0001       1.000000 -0.306498  0.155449  0.350298  0.545282  0.444322   \n",
      "C0002      -0.306498  1.000000 -0.064997 -0.280866  0.027819 -0.296340   \n",
      "C0003       0.155449 -0.064997  1.000000  0.257611 -0.213255  0.253707   \n",
      "C0004       0.350298 -0.280866  0.257611  1.000000 -0.441911  0.553383   \n",
      "C0005       0.545282  0.027819 -0.213255 -0.441911  1.000000 -0.078478   \n",
      "\n",
      "CustomerID     C0007     C0008     C0009     C0010     C0011     C0012  \\\n",
      "CustomerID                                                               \n",
      "C0001       0.523149 -0.350408 -0.381519 -0.389408  0.490767  0.154308   \n",
      "C0002      -0.117335 -0.292210  0.587223  0.703619 -0.229419 -0.422141   \n",
      "C0003      -0.329459  0.183664 -0.290355 -0.091471  0.371781  0.726597   \n",
      "C0004      -0.426576  0.172958 -0.582174 -0.331792  0.733597  0.605890   \n",
      "C0005       0.944697 -0.473082  0.006705 -0.149631 -0.160361 -0.473828   \n",
      "\n",
      "CustomerID     C0013     C0014     C0015     C0016     C0017     C0018  \\\n",
      "CustomerID                                                               \n",
      "C0001       0.147459 -0.314824 -0.227789 -0.368734 -0.315645 -0.349581   \n",
      "C0002       0.160561  0.171278 -0.002707  0.228919 -0.193753 -0.176186   \n",
      "C0003      -0.047574  0.483732 -0.239060 -0.537479 -0.286006 -0.298452   \n",
      "C0004       0.581311 -0.520344 -0.545509 -0.302865  0.282117  0.004295   \n",
      "C0005      -0.464648  0.056527  0.238590 -0.192931 -0.390275 -0.216983   \n",
      "\n",
      "CustomerID     C0019     C0020     C0021     C0022     C0023     C0024  \\\n",
      "CustomerID                                                               \n",
      "C0001      -0.347202  0.253056 -0.138797 -0.338119 -0.260217 -0.324379   \n",
      "C0002       0.015405 -0.037255 -0.240888  0.667950 -0.431450 -0.239672   \n",
      "C0003      -0.222305 -0.227804 -0.357454 -0.374634 -0.525083 -0.406961   \n",
      "C0004      -0.124642 -0.642444  0.532123  0.066925 -0.010237  0.051523   \n",
      "C0005      -0.118071  0.703921 -0.226402 -0.255747 -0.177967 -0.236728   \n",
      "\n",
      "CustomerID     C0025     C0026     C0027     C0028     C0029     C0030  \\\n",
      "CustomerID                                                               \n",
      "C0001       0.147506  0.305115 -0.189489  0.413508 -0.409375 -0.436896   \n",
      "C0002       0.024325 -0.307352  0.412952 -0.373656  0.677211  0.620722   \n",
      "C0003       0.980440 -0.439427  0.049471 -0.387763 -0.188137 -0.270013   \n",
      "C0004       0.174151 -0.382612 -0.095130  0.332997 -0.393027 -0.296489   \n",
      "C0005      -0.146064  0.570562  0.304866  0.293549 -0.133880 -0.232605   \n",
      "\n",
      "CustomerID     C0031     C0032     C0033     C0034     C0035     C0036  \\\n",
      "CustomerID                                                               \n",
      "C0001       0.169434  0.326086 -0.276186 -0.427229  0.293228 -0.301113   \n",
      "C0002      -0.087692  0.277134  0.699366  0.584670 -0.109795  0.157668   \n",
      "C0003       0.973368  0.574168  0.100896 -0.246435 -0.268140 -0.076033   \n",
      "C0004       0.178638  0.206496 -0.402881 -0.150208 -0.382720 -0.384816   \n",
      "C0005      -0.155971  0.115502  0.024567 -0.319602  0.577270  0.098903   \n",
      "\n",
      "CustomerID     C0037     C0038     C0039     C0040     C0041     C0042  \\\n",
      "CustomerID                                                               \n",
      "C0001      -0.443734 -0.419257  0.920311 -0.240201 -0.310728 -0.327307   \n",
      "C0002      -0.358546 -0.080258 -0.265104  0.452423 -0.305370  0.299927   \n",
      "C0003       0.234400  0.426718  0.211669 -0.411006 -0.347511 -0.450495   \n",
      "C0004      -0.244024 -0.253112  0.530924 -0.321947  0.275451 -0.504706   \n",
      "C0005      -0.296306 -0.238768  0.365325  0.061386 -0.392216 -0.009743   \n",
      "\n",
      "CustomerID     C0043     C0044     C0045     C0046     C0047     C0048  \\\n",
      "CustomerID                                                               \n",
      "C0001      -0.129587 -0.221911  0.475513 -0.304767 -0.329136  0.919423   \n",
      "C0002       0.514974 -0.261063 -0.310526 -0.336580 -0.093835 -0.441601   \n",
      "C0003       0.205452 -0.423593 -0.359240 -0.405538 -0.289487 -0.011625   \n",
      "C0004      -0.242951 -0.378863  0.255781  0.214516  0.028291  0.289654   \n",
      "C0005       0.343754  0.105893  0.431674 -0.344233 -0.212912  0.509149   \n",
      "\n",
      "CustomerID     C0049     C0050     C0051     C0052     C0053     C0054  \\\n",
      "CustomerID                                                               \n",
      "C0001      -0.370324  0.272364  0.264697  0.174748 -0.444531  0.358205   \n",
      "C0002       0.544762 -0.324795 -0.481725 -0.142926  0.362822 -0.438357   \n",
      "C0003      -0.183153 -0.461435 -0.519714  0.968759 -0.418329 -0.418120   \n",
      "C0004      -0.019509 -0.476357  0.008084  0.210457 -0.047493  0.329898   \n",
      "C0005      -0.346310  0.589682  0.252953 -0.182625 -0.427672  0.216359   \n",
      "\n",
      "CustomerID     C0055     C0056     C0057     C0058     C0059     C0060  \\\n",
      "CustomerID                                                               \n",
      "C0001       0.294474 -0.332849 -0.366539 -0.280482 -0.324966 -0.266616   \n",
      "C0002      -0.146239  0.777503 -0.224147  0.407026 -0.523249  0.262965   \n",
      "C0003      -0.292691 -0.374189 -0.359000 -0.304023 -0.008012  0.518233   \n",
      "C0004      -0.283370 -0.199473  0.069697 -0.646422  0.120712 -0.375090   \n",
      "C0005       0.510687 -0.065908 -0.279751  0.144342 -0.434779  0.016383   \n",
      "\n",
      "CustomerID     C0061     C0062     C0063     C0064     C0065     C0066  \\\n",
      "CustomerID                                                               \n",
      "C0001      -0.418282 -0.406816 -0.276182 -0.368526 -0.307796  0.265933   \n",
      "C0002       0.569745  0.687514  0.226386 -0.224942 -0.447388 -0.379213   \n",
      "C0003      -0.332237 -0.177375 -0.004039 -0.398485  0.046486 -0.492730   \n",
      "C0004      -0.535251 -0.482554 -0.453652 -0.119182  0.291795 -0.439837   \n",
      "C0005      -0.064912 -0.073659  0.159655 -0.153482 -0.523382  0.552308   \n",
      "\n",
      "CustomerID     C0067     C0068     C0069     C0070     C0071     C0072  \\\n",
      "CustomerID                                                               \n",
      "C0001      -0.443133  0.241781  0.313230 -0.363141  0.346280  0.284032   \n",
      "C0002       0.400911 -0.401387 -0.253874 -0.078330  0.245318 -0.118877   \n",
      "C0003      -0.455411 -0.421507 -0.411515 -0.298816  0.592111 -0.254954   \n",
      "C0004      -0.162161  0.136194 -0.346206 -0.298656  0.276102 -0.250889   \n",
      "C0005      -0.348256  0.154222  0.558927 -0.018388  0.080676  0.481016   \n",
      "\n",
      "CustomerID     C0073     C0074     C0075     C0076     C0077     C0078  \\\n",
      "CustomerID                                                               \n",
      "C0001      -0.323069 -0.266768 -0.274848  0.181406  0.134907 -0.035205   \n",
      "C0002       0.103995 -0.201194 -0.244030 -0.201731  0.730334 -0.025196   \n",
      "C0003      -0.139531 -0.391575 -0.281226  0.922910  0.377465 -0.233426   \n",
      "C0004      -0.422647 -0.409466  0.392555  0.267847  0.052597 -0.437318   \n",
      "C0005       0.102338  0.104350 -0.444726 -0.223211 -0.059632  0.398516   \n",
      "\n",
      "CustomerID     C0079     C0080     C0081     C0082     C0083     C0084  \\\n",
      "CustomerID                                                               \n",
      "C0001      -0.384077 -0.210324 -0.370600  0.287426  0.142764  0.437920   \n",
      "C0002      -0.384591  0.062856 -0.086204 -0.487765  0.723274 -0.171133   \n",
      "C0003       0.138417  0.431788 -0.267303 -0.000713  0.353058 -0.262217   \n",
      "C0004      -0.333056 -0.568794  0.004173  0.784064  0.023948  0.316493   \n",
      "C0005      -0.181080  0.272560 -0.227240 -0.359110 -0.039936  0.354511   \n",
      "\n",
      "CustomerID     C0085     C0086     C0087     C0088     C0089     C0090  \\\n",
      "CustomerID                                                               \n",
      "C0001       0.411422 -0.448381  0.337605 -0.327416 -0.359073 -0.190459   \n",
      "C0002      -0.149948 -0.183967 -0.419702  0.976407 -0.224422  0.047849   \n",
      "C0003       0.265821  0.360868  0.130313 -0.156409  0.209596 -0.180807   \n",
      "C0004       0.244577 -0.317294  0.911114 -0.204457 -0.559856  0.494066   \n",
      "C0005       0.116335 -0.237289 -0.402908 -0.041508  0.003099 -0.137289   \n",
      "\n",
      "CustomerID     C0091     C0092     C0093     C0094     C0095     C0096  \\\n",
      "CustomerID                                                               \n",
      "C0001       0.790909 -0.328437 -0.269400 -0.267597  0.800060  0.795932   \n",
      "C0002      -0.056077  0.832162  0.413038  0.264807  0.036109 -0.533742   \n",
      "C0003       0.327316 -0.315204 -0.366628  0.049413  0.333812 -0.087935   \n",
      "C0004       0.443005 -0.303665  0.332501 -0.247324 -0.020764  0.381631   \n",
      "C0005       0.337320  0.011378 -0.399073  0.033439  0.659658  0.341500   \n",
      "\n",
      "CustomerID     C0097     C0098     C0099     C0100     C0101     C0102  \\\n",
      "CustomerID                                                               \n",
      "C0001      -0.201644 -0.408533  0.129985 -0.394503 -0.149895  0.785392   \n",
      "C0002       0.341615  0.401933  0.094015 -0.475424 -0.170596 -0.496877   \n",
      "C0003       0.646351 -0.410409 -0.069586  0.082118 -0.277101 -0.031065   \n",
      "C0004      -0.408514 -0.049041  0.642698 -0.138117  0.592179  0.655239   \n",
      "C0005       0.188356 -0.384989 -0.505694 -0.329876 -0.265881  0.154804   \n",
      "\n",
      "CustomerID     C0103     C0104     C0105     C0106     C0107     C0108  \\\n",
      "CustomerID                                                               \n",
      "C0001      -0.433338  0.133252  0.287707 -0.346949  0.185071  0.156728   \n",
      "C0002       0.470365 -0.531417 -0.353340  0.946374  0.443212  0.355592   \n",
      "C0003      -0.452062  0.474351 -0.426532 -0.207553  0.093481  0.089139   \n",
      "C0004      -0.394527  0.614773 -0.090370 -0.148531  0.342207  0.607817   \n",
      "C0005      -0.184265 -0.480514  0.356909 -0.096482 -0.292273 -0.479979   \n",
      "\n",
      "CustomerID     C0109     C0110     C0111     C0112     C0113     C0114  \\\n",
      "CustomerID                                                               \n",
      "C0001      -0.321888 -0.230270 -0.376517  0.854115  0.138189  0.273021   \n",
      "C0002       0.221578  0.218610  0.676086 -0.007012 -0.320915 -0.468790   \n",
      "C0003      -0.312836  0.602597 -0.067754  0.341362  0.753423 -0.512574   \n",
      "C0004       0.287555 -0.511417 -0.214932  0.110987  0.653353 -0.146920   \n",
      "C0005      -0.522258  0.233254 -0.213435  0.612190 -0.500176  0.365164   \n",
      "\n",
      "CustomerID     C0115     C0116     C0117     C0118     C0119     C0120  \\\n",
      "CustomerID                                                               \n",
      "C0001       0.485879 -0.332236 -0.338600  0.471249  0.270385  0.928262   \n",
      "C0002      -0.206678 -0.147608 -0.178188 -0.279717 -0.009514 -0.202906   \n",
      "C0003      -0.385273 -0.366960 -0.347276  0.276759 -0.199162  0.179221   \n",
      "C0004      -0.383796 -0.127201 -0.212435  0.752819 -0.361219  0.076733   \n",
      "C0005       0.858863 -0.113603 -0.064034 -0.190785  0.543163  0.677682   \n",
      "\n",
      "CustomerID     C0121     C0122     C0123     C0124     C0125     C0126  \\\n",
      "CustomerID                                                               \n",
      "C0001      -0.248603 -0.314452 -0.117541 -0.434292 -0.322481  0.453665   \n",
      "C0002       0.306875 -0.320171  0.357046 -0.340725 -0.128203 -0.334072   \n",
      "C0003       0.112903 -0.416228  0.022638  0.240318 -0.344570  0.274610   \n",
      "C0004      -0.205055  0.173510 -0.439025 -0.049008 -0.320608  0.874511   \n",
      "C0005       0.014575 -0.320462  0.486186 -0.413809  0.022887 -0.289140   \n",
      "\n",
      "CustomerID     C0127     C0128     C0129     C0130     C0131     C0132  \\\n",
      "CustomerID                                                               \n",
      "C0001       0.306691 -0.232429  0.172740  0.749369 -0.287060 -0.316863   \n",
      "C0002      -0.362198  0.101900  0.627448 -0.025265 -0.008467  0.099976   \n",
      "C0003      -0.501443  0.499627  0.248633  0.217506 -0.251236 -0.151387   \n",
      "C0004      -0.259623 -0.534784  0.097556 -0.181463 -0.462519 -0.445392   \n",
      "C0005       0.483412  0.240501 -0.108323  0.719995  0.147938  0.121250   \n",
      "\n",
      "CustomerID     C0133     C0134     C0135     C0136     C0137     C0138  \\\n",
      "CustomerID                                                               \n",
      "C0001       0.185360 -0.304682 -0.353021 -0.317978  0.495181 -0.276736   \n",
      "C0002       0.511142  0.946395 -0.122223 -0.047385 -0.183943 -0.355869   \n",
      "C0003       0.135872 -0.027891 -0.341508  0.600952  0.399515  0.283498   \n",
      "C0004       0.191154 -0.080643 -0.314818  0.109357  0.699915 -0.005990   \n",
      "C0005      -0.180764 -0.107908 -0.004605 -0.254852 -0.131018 -0.176403   \n",
      "\n",
      "CustomerID     C0139     C0140     C0141     C0142     C0143     C0144  \\\n",
      "CustomerID                                                               \n",
      "C0001      -0.298230  0.503698 -0.240409 -0.166163 -0.296078 -0.351388   \n",
      "C0002      -0.264686  0.071749 -0.157656  0.476428  0.461828  0.702970   \n",
      "C0003      -0.411898 -0.159573 -0.472518  0.162306 -0.366408 -0.048361   \n",
      "C0004       0.138084 -0.499652  0.290570 -0.063994  0.253635 -0.458475   \n",
      "C0005      -0.281680  0.988009 -0.470304  0.248080 -0.363524 -0.023115   \n",
      "\n",
      "CustomerID     C0145     C0146     C0147     C0148     C0149     C0150  \\\n",
      "CustomerID                                                               \n",
      "C0001      -0.280122  0.560262  0.345138  0.907493 -0.462549  0.149266   \n",
      "C0002       0.401645 -0.131673 -0.122687 -0.460498  0.428629  0.597779   \n",
      "C0003      -0.400777 -0.355050  0.303447  0.036850 -0.442371  0.233918   \n",
      "C0004       0.288447 -0.354611  0.865989  0.450837 -0.224655 -0.176049   \n",
      "C0005      -0.379205  0.945066 -0.342912  0.391587 -0.327527  0.098901   \n",
      "\n",
      "CustomerID     C0151     C0152     C0153     C0154     C0155     C0156  \\\n",
      "CustomerID                                                               \n",
      "C0001       0.088725  0.181015  0.446617  0.304486  0.372709 -0.202823   \n",
      "C0002       0.248441 -0.277300 -0.290946 -0.355446 -0.452672 -0.380892   \n",
      "C0003       0.850629  0.918719  0.330595 -0.475089  0.072346 -0.363231   \n",
      "C0004      -0.026492  0.358349  0.921448 -0.204470  0.817417  0.462672   \n",
      "C0005       0.010289 -0.294177 -0.322116  0.448962 -0.317815 -0.456251   \n",
      "\n",
      "CustomerID     C0157     C0158     C0159     C0160     C0161     C0162  \\\n",
      "CustomerID                                                               \n",
      "C0001       0.271016  0.172818 -0.293601 -0.434352 -0.161127  0.489023   \n",
      "C0002      -0.027055 -0.408631  0.115270 -0.156802  0.107076 -0.244022   \n",
      "C0003      -0.193270  0.613912  0.649686  0.379477 -0.139389 -0.337568   \n",
      "C0004      -0.303343  0.168218 -0.380461 -0.277330  0.445815  0.262365   \n",
      "C0005       0.507688 -0.160531  0.102211 -0.244416 -0.122525  0.449056   \n",
      "\n",
      "CustomerID     C0163     C0164     C0165     C0166     C0167     C0168  \\\n",
      "CustomerID                                                               \n",
      "C0001       0.155326 -0.450370  0.265064 -0.435376 -0.322538  0.352297   \n",
      "C0002      -0.462586 -0.251394 -0.267503 -0.122190  0.010187 -0.402667   \n",
      "C0003       0.690638  0.309685  0.207464  0.392655 -0.231955  0.046209   \n",
      "C0004       0.543475 -0.317307  0.970908 -0.410109 -0.447742  0.429215   \n",
      "C0005      -0.433637 -0.245411 -0.481963 -0.158197  0.112775 -0.069286   \n",
      "\n",
      "CustomerID     C0169     C0170     C0171     C0172     C0173     C0174  \\\n",
      "CustomerID                                                               \n",
      "C0001       0.385161 -0.420061  0.426608 -0.422516 -0.141918  0.461343   \n",
      "C0002      -0.082703 -0.424639 -0.377366 -0.092558 -0.221600  0.001362   \n",
      "C0003       0.475214  0.160557  0.210545  0.401899 -0.314397  0.543807   \n",
      "C0004       0.887442 -0.205252  0.740863 -0.222030  0.575648  0.690788   \n",
      "C0005      -0.326394 -0.305000 -0.222758 -0.266885 -0.262510 -0.134106   \n",
      "\n",
      "CustomerID     C0175     C0176     C0177     C0178     C0179     C0181  \\\n",
      "CustomerID                                                               \n",
      "C0001      -0.115946 -0.401821 -0.189559 -0.320322 -0.451557  0.982964   \n",
      "C0002      -0.202569  0.673623  0.354146  0.071337 -0.281340 -0.307936   \n",
      "C0003      -0.249792 -0.151489 -0.036183  0.675483  0.300043  0.152565   \n",
      "C0004       0.643007 -0.408299 -0.149057 -0.242096 -0.174543  0.444125   \n",
      "C0005      -0.344168 -0.114416  0.353117 -0.009488 -0.342597  0.469235   \n",
      "\n",
      "CustomerID     C0182     C0183     C0184     C0185     C0186     C0187  \\\n",
      "CustomerID                                                               \n",
      "C0001      -0.442861 -0.443744  0.905593 -0.256042  0.527461  0.378166   \n",
      "C0002      -0.349404  0.428015 -0.432852 -0.219087 -0.004735 -0.413508   \n",
      "C0003       0.261431 -0.450927 -0.016468 -0.391060 -0.249180  0.056234   \n",
      "C0004      -0.163170 -0.273482  0.426461 -0.368303 -0.468453  0.523204   \n",
      "C0005      -0.346771 -0.274025  0.407907  0.086178  0.988495 -0.114405   \n",
      "\n",
      "CustomerID     C0188     C0189     C0190     C0191     C0192     C0193  \\\n",
      "CustomerID                                                               \n",
      "C0001       0.715866 -0.425457  0.950395  0.494127  0.953504 -0.202157   \n",
      "C0002      -0.538493 -0.106542 -0.164908 -0.138772 -0.190427  0.299265   \n",
      "C0003      -0.087128  0.408064  0.269972  0.425042  0.191943 -0.074405   \n",
      "C0004       0.636243 -0.276128  0.358565  0.668073  0.142730 -0.089770   \n",
      "C0005       0.108075 -0.232176  0.512059 -0.106823  0.655148  0.317934   \n",
      "\n",
      "CustomerID     C0194     C0195     C0196     C0197     C0198     C0199  \\\n",
      "CustomerID                                                               \n",
      "C0001      -0.335697  0.164367 -0.337302  0.277718 -0.372354  0.296567   \n",
      "C0002      -0.151388 -0.278914 -0.459485 -0.031792  0.667871 -0.104222   \n",
      "C0003      -0.300925  0.904064  0.020116 -0.208041 -0.165806 -0.287502   \n",
      "C0004       0.124620  0.506445 -0.293862 -0.484366 -0.579410 -0.447804   \n",
      "C0005      -0.286765 -0.398920 -0.171704  0.630921  0.024950  0.620580   \n",
      "\n",
      "CustomerID     C0200  \n",
      "CustomerID            \n",
      "C0001      -0.334324  \n",
      "C0002       0.658825  \n",
      "C0003      -0.385962  \n",
      "C0004      -0.039737  \n",
      "C0005      -0.182709  \n"
     ]
    }
   ],
   "source": [
    "# Converting to the DataFrame for readability\n",
    "import pandas as pd\n",
    "similarity_df = pd.DataFrame(\n",
    "    similarity_matrix, \n",
    "    index=customer_features[\"CustomerID\"], \n",
    "    columns=customer_features[\"CustomerID\"]\n",
    ")\n",
    "\n",
    "# Display the first few rows\n",
    "print(similarity_df.head())\n"
   ]
  },
  {
   "cell_type": "markdown",
   "id": "611177d8",
   "metadata": {},
   "source": [
    "Why we used **Cosine Similarity**?  \n",
    "- It calculates similarity regardless of the vectors' magnitude. This is important when comparing customers with different total spending but similar patterns.  \n",
    "\n",
    "How to Interpret the Results?  \n",
    "- **1.0**: Perfectly similar (e.g., customers with identical spending patterns).  \n",
    "- **0.0**: No similarity (orthogonal vectors, completely different patterns).  \n",
    "- **-1.0**: Completely opposite patterns (not common for normalized features).  \n"
   ]
  },
  {
   "cell_type": "markdown",
   "id": "5e9166fe",
   "metadata": {},
   "source": [
    "### Generating the Recommendations"
   ]
  },
  {
   "cell_type": "code",
   "execution_count": 30,
   "id": "75995c47",
   "metadata": {},
   "outputs": [],
   "source": [
    "similar_customers = {}\n",
    "for i, customer_id in enumerate(customer_features[\"CustomerID\"][:20]):\n",
    "    similarity_scores = list(enumerate(similarity_matrix[i]))\n",
    "    similarity_scores = sorted(similarity_scores, key=lambda x: x[1], reverse=True)[1:4]\n",
    "    similar_customers[customer_id] = [(customer_features[\"CustomerID\"][j], score) for j, score in similarity_scores]"
   ]
  },
  {
   "cell_type": "code",
   "execution_count": 31,
   "id": "6b8334d2",
   "metadata": {},
   "outputs": [
    {
     "data": {
      "text/plain": [
       "{'C0001': [('C0181', 0.9829643469753961),\n",
       "  ('C0192', 0.9535041305694142),\n",
       "  ('C0190', 0.9503953394872794)],\n",
       " 'C0002': [('C0088', 0.9764068890164816),\n",
       "  ('C0134', 0.9463946720184241),\n",
       "  ('C0106', 0.9463736594511042)],\n",
       " 'C0003': [('C0025', 0.9804399773534254),\n",
       "  ('C0031', 0.9733680506789716),\n",
       "  ('C0052', 0.9687586191651847)],\n",
       " 'C0004': [('C0165', 0.970907661586851),\n",
       "  ('C0153', 0.9214483777482797),\n",
       "  ('C0087', 0.9111137479183313)],\n",
       " 'C0005': [('C0186', 0.9884948596671941),\n",
       "  ('C0140', 0.9880089510695753),\n",
       "  ('C0146', 0.9450658915313815)],\n",
       " 'C0006': [('C0171', 0.9531784721207105),\n",
       "  ('C0011', 0.9390052505353642),\n",
       "  ('C0168', 0.9379172027604062)],\n",
       " 'C0007': [('C0146', 0.9849330171639457),\n",
       "  ('C0115', 0.9789839666276232),\n",
       "  ('C0186', 0.9723725231037348)],\n",
       " 'C0008': [('C0065', 0.892147853584243),\n",
       "  ('C0059', 0.7860395194334052),\n",
       "  ('C0160', 0.7698077613027499)],\n",
       " 'C0009': [('C0061', 0.9791075049919215),\n",
       "  ('C0198', 0.9594425561301161),\n",
       "  ('C0062', 0.9239737736032363)],\n",
       " 'C0010': [('C0111', 0.9842424289476103),\n",
       "  ('C0062', 0.9557780164339036),\n",
       "  ('C0198', 0.8906915452173549)],\n",
       " 'C0011': [('C0137', 0.9936141864158793),\n",
       "  ('C0191', 0.9774425159284134),\n",
       "  ('C0118', 0.9627873213554262)],\n",
       " 'C0012': [('C0163', 0.9777708930606823),\n",
       "  ('C0113', 0.9614966457495986),\n",
       "  ('C0195', 0.947844527603088)],\n",
       " 'C0013': [('C0099', 0.9881745905413405),\n",
       "  ('C0108', 0.9409738062153299),\n",
       "  ('C0107', 0.865278191638058)],\n",
       " 'C0014': [('C0060', 0.9526912508303435),\n",
       "  ('C0166', 0.8594154296081794),\n",
       "  ('C0097', 0.8350502639462867)],\n",
       " 'C0015': [('C0131', 0.9703437675822334),\n",
       "  ('C0185', 0.9005552583687698),\n",
       "  ('C0125', 0.8956541535755839)],\n",
       " 'C0016': [('C0042', 0.939746200567519),\n",
       "  ('C0183', 0.9167770578493257),\n",
       "  ('C0067', 0.8793539949260681)],\n",
       " 'C0017': [('C0075', 0.9795045023309646),\n",
       "  ('C0041', 0.9357977389943553),\n",
       "  ('C0057', 0.9237106015905238)],\n",
       " 'C0018': [('C0117', 0.9282785588623468),\n",
       "  ('C0122', 0.9072488950841936),\n",
       "  ('C0046', 0.9064306451377685)],\n",
       " 'C0019': [('C0081', 0.9478056594925095),\n",
       "  ('C0070', 0.8626689730467145),\n",
       "  ('C0073', 0.8371742305341044)],\n",
       " 'C0020': [('C0050', 0.8537135391568943),\n",
       "  ('C0035', 0.8506966988378972),\n",
       "  ('C0026', 0.8440144837758012)]}"
      ]
     },
     "execution_count": 31,
     "metadata": {},
     "output_type": "execute_result"
    }
   ],
   "source": [
    "similar_customers"
   ]
  },
  {
   "cell_type": "markdown",
   "id": "333982b9",
   "metadata": {},
   "source": [
    "- We had found the top 3 most similar customers based on similarity scores.\n",
    "- The output results in a dictionary mapping of each customer to their top 3 lookalikes with similarity scores."
   ]
  },
  {
   "cell_type": "markdown",
   "id": "46e2e97b",
   "metadata": {},
   "source": [
    "### Saving the results to CSV"
   ]
  },
  {
   "cell_type": "code",
   "execution_count": 32,
   "id": "b2de6598",
   "metadata": {},
   "outputs": [
    {
     "name": "stdout",
     "output_type": "stream",
     "text": [
      "Lookalike.csv generated successfully!\n"
     ]
    }
   ],
   "source": [
    "lookalike_results = []\n",
    "for cust_id, similar_list in similar_customers.items():\n",
    "    for similar_cust, score in similar_list:\n",
    "        lookalike_results.append({\"CustomerID\": cust_id, \"SimilarCustomerID\": similar_cust, \"Score\": score})\n",
    "\n",
    "lookalike_df = pd.DataFrame(lookalike_results)\n",
    "lookalike_df.to_csv(\"Lookalike.csv\", index=False)\n",
    "\n",
    "print(\"Lookalike.csv generated successfully!\")"
   ]
  },
  {
   "cell_type": "code",
   "execution_count": null,
   "id": "f34e29fb",
   "metadata": {},
   "outputs": [],
   "source": []
  }
 ],
 "metadata": {
  "kernelspec": {
   "display_name": "Python 3 (ipykernel)",
   "language": "python",
   "name": "python3"
  },
  "language_info": {
   "codemirror_mode": {
    "name": "ipython",
    "version": 3
   },
   "file_extension": ".py",
   "mimetype": "text/x-python",
   "name": "python",
   "nbconvert_exporter": "python",
   "pygments_lexer": "ipython3",
   "version": "3.12.2"
  }
 },
 "nbformat": 4,
 "nbformat_minor": 5
}
